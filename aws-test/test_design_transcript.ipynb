{
 "cells": [
  {
   "cell_type": "code",
   "execution_count": 14,
   "metadata": {},
   "outputs": [
    {
     "data": {
      "text/plain": [
       "False"
      ]
     },
     "execution_count": 14,
     "metadata": {},
     "output_type": "execute_result"
    }
   ],
   "source": [
    "from datetime import datetime, timedelta\n",
    "\n",
    "def _within_two_weeks(date_str: str, cached_date_str: str) -> bool:\n",
    "    \"\"\"\n",
    "    Vérifie si deux dates sont espacées de moins de deux semaines.\n",
    "\n",
    "    Args:\n",
    "        date_str (str): La première date. Peut être en format ISO 8601 ou RFC 1123.\n",
    "        cached_date_str (str): La seconde date. Peut être en format ISO 8601 ou RFC 1123.\n",
    "\n",
    "    Returns:\n",
    "        bool: True si les dates sont espacées de moins de deux semaines, False sinon ou en cas d'erreur.\n",
    "    \"\"\"\n",
    "    def parse_date(date_str):\n",
    "        for fmt in (\"%Y-%m-%dT%H:%M:%SZ\",  # ISO 8601\n",
    "                    \"%a, %d %b %Y %H:%M:%S GMT\"):  # RFC 1123\n",
    "            try:\n",
    "                return datetime.strptime(date_str, fmt)\n",
    "            except ValueError:\n",
    "                continue\n",
    "        raise ValueError(f\"Format de date non supporté: {date_str}\")\n",
    "\n",
    "    try:\n",
    "        date_val = parse_date(date_str)\n",
    "        cached_date_val = parse_date(cached_date_str)\n",
    "        \n",
    "        # Calcul de la différence absolue entre les deux dates\n",
    "        difference = abs(date_val - cached_date_val)\n",
    "        \n",
    "        # Vérifie si la différence est inférieure à deux semaines\n",
    "        return difference < timedelta(weeks=2)\n",
    "    except ValueError as ve:\n",
    "        logger.error(f\"Erreur de format de date : {ve}\")\n",
    "        return False\n",
    "    except Exception as e:\n",
    "        logger.exception(f\"Erreur inattendue : {e}\")\n",
    "        return False\n",
    "_within_two_weeks(\"Mon, 02 Sep 2024 20:45:53 GMT\", \"Thu, 22 Oct 2024 20:45:53 GMT\")"
   ]
  },
  {
   "cell_type": "code",
   "execution_count": 6,
   "metadata": {},
   "outputs": [
    {
     "data": {
      "text/plain": [
       "True"
      ]
     },
     "execution_count": 6,
     "metadata": {},
     "output_type": "execute_result"
    }
   ],
   "source": [
    "import redis \n",
    "REDIS_HOST = \"crisp-moray-17911.upstash.io\"\n",
    "REDIS_PORT =  \"6379\"\n",
    "\n",
    "key = \"AUX3AAIjcDE5Yjg1NWI5NzExMWU0MTI4YWQwN2Q5YTQ5N2Q1MGVlZHAxMA\"\n",
    "redis_client = redis.Redis(host=REDIS_HOST, port=REDIS_PORT, password=key, ssl=True)\n",
    "redis_client.set(\"pouet\", \"poueeett\", ex=60)"
   ]
  },
  {
   "cell_type": "code",
   "execution_count": 9,
   "metadata": {},
   "outputs": [
    {
     "data": {
      "text/plain": [
       "True"
      ]
     },
     "execution_count": 9,
     "metadata": {},
     "output_type": "execute_result"
    }
   ],
   "source": [
    "import redis \n",
    "REDIS_HOST = \"localhost\"\n",
    "REDIS_PORT =  \"6379\"\n",
    "\n",
    "redis_client = redis.Redis(host=REDIS_HOST, port=REDIS_PORT,decode_responses=True)\n",
    "redis_client.set(\"pouet\", \"poueeett\", ex=60)"
   ]
  },
  {
   "cell_type": "code",
   "execution_count": null,
   "metadata": {},
   "outputs": [],
   "source": []
  },
  {
   "cell_type": "code",
   "execution_count": null,
   "metadata": {},
   "outputs": [],
   "source": []
  }
 ],
 "metadata": {
  "kernelspec": {
   "display_name": ".venv",
   "language": "python",
   "name": "python3"
  },
  "language_info": {
   "codemirror_mode": {
    "name": "ipython",
    "version": 3
   },
   "file_extension": ".py",
   "mimetype": "text/x-python",
   "name": "python",
   "nbconvert_exporter": "python",
   "pygments_lexer": "ipython3",
   "version": "3.11.10"
  }
 },
 "nbformat": 4,
 "nbformat_minor": 2
}
